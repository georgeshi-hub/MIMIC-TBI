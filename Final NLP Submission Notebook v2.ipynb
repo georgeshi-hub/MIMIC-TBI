{
 "cells": [
  {
   "cell_type": "markdown",
   "metadata": {},
   "source": [
    "## Notebook for TBI ICU NLP "
   ]
  },
  {
   "cell_type": "markdown",
   "metadata": {},
   "source": [
    "## Description\n",
    "### In-hospital mortality is estimated using Natual Language Processing techniques based on Radiologist notes of Head CT scan. The CT is the most common modality for TBI patients in the dataset. Therefore the notes, especially the first CT notes may have predictive value for the mortality. \n",
    "\n",
    "### In addition, the incremental value of age and sex is also evaluated."
   ]
  },
  {
   "cell_type": "code",
   "execution_count": 19,
   "metadata": {},
   "outputs": [],
   "source": [
    "import numpy as np\n",
    "import pandas as pd\n",
    "#import nltk\n",
    "from nltk import word_tokenize\n",
    "import string\n",
    "\n",
    "import scipy\n",
    "import sklearn.metrics as metrics\n",
    "import matplotlib.pyplot as plt\n"
   ]
  },
  {
   "cell_type": "code",
   "execution_count": 20,
   "metadata": {},
   "outputs": [],
   "source": [
    "def tokenizer_better(text):\n",
    "    # tokenize the text by replacing punctuation and numbers with spaces and lowercase all words\n",
    "    punc_list = string.punctuation + '0123456789'\n",
    "    t = str.maketrans(dict.fromkeys(punc_list, \" \"))\n",
    "    text = text.lower().translate(t)\n",
    "    tokens = word_tokenize(text)\n",
    "    return tokens\n",
    "\n",
    "\n",
    "def preprocess_text(df):\n",
    "    # This function preprocesses the text by filling not a number and replacing new lines ('\\n') and carriage returns ('\\r')\n",
    "    df.conclusion = df.conclusion.fillna(' ')\n",
    "    df['conclusion'] = df['conclusion'].str.replace('\\n',' ')\n",
    "    df['conclusion'] = df['conclusion'].str.replace('\\r',' ')\n",
    "    return df\n"
   ]
  },
  {
   "cell_type": "code",
   "execution_count": 21,
   "metadata": {},
   "outputs": [],
   "source": [
    "def train_draw_ROC(model, X_train, X_test, y_train, y_test, axp, title):\n",
    "    model = model\n",
    "    y_train_preds = model.predict_proba(X_train)[:,1]\n",
    "    y_test_preds = model.predict_proba(X_test)[:,1]\n",
    "    fpr_t, tpr_t, threshold = metrics.roc_curve(y_train, y_train_preds)\n",
    "    \n",
    "    roc_auc_t = metrics.auc(fpr_t, tpr_t)\n",
    "    fpr_v, tpr_v, threshold = metrics.roc_curve(y_test, y_test_preds)\n",
    "    roc_auc_v = metrics.auc(fpr_v, tpr_v)\n",
    "\n",
    "\n",
    "    ax = axp or plt.gca()\n",
    "#    ax.figure(figsize=(6,6))\n",
    "    ax.set_title(title, fontsize = 12)\n",
    "\n",
    "    ax.plot(fpr_t, tpr_t, 'b', label = 'AUC train = %0.2f' % roc_auc_t)\n",
    "    ax.plot(fpr_v, tpr_v, 'g', label = 'AUC test = %0.2f' % roc_auc_v)\n",
    "    ax.legend(loc = 'lower right')\n",
    "    ax.plot([0, 1], [0, 1],'r--')\n",
    "#    ax.axes().set_aspect('equal')\n",
    "    ax.set_xlim([-0.02, 1.02])\n",
    "    ax.set_ylim([-0.02, 1.02])\n",
    "    ax.set_ylabel('True Positive Rate')\n",
    "    ax.set_xlabel('False Positive Rate')\n",
    "    #return\n",
    "\n"
   ]
  },
  {
   "cell_type": "code",
   "execution_count": 22,
   "metadata": {
    "scrolled": false
   },
   "outputs": [
    {
     "data": {
      "text/html": [
       "<div>\n",
       "<style scoped>\n",
       "    .dataframe tbody tr th:only-of-type {\n",
       "        vertical-align: middle;\n",
       "    }\n",
       "\n",
       "    .dataframe tbody tr th {\n",
       "        vertical-align: top;\n",
       "    }\n",
       "\n",
       "    .dataframe thead th {\n",
       "        text-align: right;\n",
       "    }\n",
       "</style>\n",
       "<table border=\"1\" class=\"dataframe\">\n",
       "  <thead>\n",
       "    <tr style=\"text-align: right;\">\n",
       "      <th></th>\n",
       "      <th>Unnamed: 0</th>\n",
       "      <th>hadm_id</th>\n",
       "      <th>gender</th>\n",
       "      <th>age</th>\n",
       "      <th>gcs</th>\n",
       "      <th>description</th>\n",
       "      <th>charttime</th>\n",
       "      <th>category</th>\n",
       "      <th>text</th>\n",
       "      <th>hospital_expire_flag</th>\n",
       "      <th>conclusion</th>\n",
       "    </tr>\n",
       "  </thead>\n",
       "  <tbody>\n",
       "    <tr>\n",
       "      <th>0</th>\n",
       "      <td>0</td>\n",
       "      <td>126297</td>\n",
       "      <td>M</td>\n",
       "      <td>66.0</td>\n",
       "      <td>14.0</td>\n",
       "      <td>CT HEAD W/O CONTRAST</td>\n",
       "      <td>2128-09-26 10:10:00</td>\n",
       "      <td>Radiology</td>\n",
       "      <td>[**2128-9-26**] 10:10 AM\\n CT HEAD W/O CONTRAS...</td>\n",
       "      <td>0</td>\n",
       "      <td>:  Interval minimal reduction of leftward subf...</td>\n",
       "    </tr>\n",
       "    <tr>\n",
       "      <th>1</th>\n",
       "      <td>1</td>\n",
       "      <td>138940</td>\n",
       "      <td>F</td>\n",
       "      <td>36.0</td>\n",
       "      <td>15.0</td>\n",
       "      <td>CT HEAD W/O CONTRAST</td>\n",
       "      <td>2117-02-19 16:42:00</td>\n",
       "      <td>Radiology</td>\n",
       "      <td>[**2117-2-19**] 4:42 PM\\n CT HEAD W/O CONTRAST...</td>\n",
       "      <td>0</td>\n",
       "      <td>:  Little change compared to the recent CT bra...</td>\n",
       "    </tr>\n",
       "    <tr>\n",
       "      <th>2</th>\n",
       "      <td>2</td>\n",
       "      <td>138940</td>\n",
       "      <td>F</td>\n",
       "      <td>36.0</td>\n",
       "      <td>15.0</td>\n",
       "      <td>CT HEAD W/O CONTRAST</td>\n",
       "      <td>2117-02-18 22:44:00</td>\n",
       "      <td>Radiology</td>\n",
       "      <td>[**2117-2-18**] 10:44 PM\\n CT HEAD W/O CONTRAS...</td>\n",
       "      <td>0</td>\n",
       "      <td>:\\n 1.  ICP bolt via right frontal approach en...</td>\n",
       "    </tr>\n",
       "    <tr>\n",
       "      <th>3</th>\n",
       "      <td>3</td>\n",
       "      <td>138940</td>\n",
       "      <td>F</td>\n",
       "      <td>36.0</td>\n",
       "      <td>15.0</td>\n",
       "      <td>CT HEAD W/O CONTRAST</td>\n",
       "      <td>2117-02-18 11:56:00</td>\n",
       "      <td>Radiology</td>\n",
       "      <td>[**2117-2-18**] 11:56 AM\\n CT HEAD W/O CONTRAS...</td>\n",
       "      <td>0</td>\n",
       "      <td>:\\n\\n 1.  Left frontal and temporal lobe subar...</td>\n",
       "    </tr>\n",
       "    <tr>\n",
       "      <th>4</th>\n",
       "      <td>4</td>\n",
       "      <td>138940</td>\n",
       "      <td>F</td>\n",
       "      <td>36.0</td>\n",
       "      <td>15.0</td>\n",
       "      <td>CT HEAD W/O CONTRAST</td>\n",
       "      <td>2117-02-21 16:33:00</td>\n",
       "      <td>Radiology</td>\n",
       "      <td>[**2117-2-21**] 4:33 PM\\n CT HEAD W/O CONTRAST...</td>\n",
       "      <td>0</td>\n",
       "      <td>:\\n Little overall change in appearance of sub...</td>\n",
       "    </tr>\n",
       "  </tbody>\n",
       "</table>\n",
       "</div>"
      ],
      "text/plain": [
       "   Unnamed: 0  hadm_id gender   age   gcs           description  \\\n",
       "0           0   126297      M  66.0  14.0  CT HEAD W/O CONTRAST   \n",
       "1           1   138940      F  36.0  15.0  CT HEAD W/O CONTRAST   \n",
       "2           2   138940      F  36.0  15.0  CT HEAD W/O CONTRAST   \n",
       "3           3   138940      F  36.0  15.0  CT HEAD W/O CONTRAST   \n",
       "4           4   138940      F  36.0  15.0  CT HEAD W/O CONTRAST   \n",
       "\n",
       "             charttime   category  \\\n",
       "0  2128-09-26 10:10:00  Radiology   \n",
       "1  2117-02-19 16:42:00  Radiology   \n",
       "2  2117-02-18 22:44:00  Radiology   \n",
       "3  2117-02-18 11:56:00  Radiology   \n",
       "4  2117-02-21 16:33:00  Radiology   \n",
       "\n",
       "                                                text  hospital_expire_flag  \\\n",
       "0  [**2128-9-26**] 10:10 AM\\n CT HEAD W/O CONTRAS...                     0   \n",
       "1  [**2117-2-19**] 4:42 PM\\n CT HEAD W/O CONTRAST...                     0   \n",
       "2  [**2117-2-18**] 10:44 PM\\n CT HEAD W/O CONTRAS...                     0   \n",
       "3  [**2117-2-18**] 11:56 AM\\n CT HEAD W/O CONTRAS...                     0   \n",
       "4  [**2117-2-21**] 4:33 PM\\n CT HEAD W/O CONTRAST...                     0   \n",
       "\n",
       "                                          conclusion  \n",
       "0  :  Interval minimal reduction of leftward subf...  \n",
       "1  :  Little change compared to the recent CT bra...  \n",
       "2  :\\n 1.  ICP bolt via right frontal approach en...  \n",
       "3  :\\n\\n 1.  Left frontal and temporal lobe subar...  \n",
       "4  :\\n Little overall change in appearance of sub...  "
      ]
     },
     "execution_count": 22,
     "metadata": {},
     "output_type": "execute_result"
    }
   ],
   "source": [
    "# read csv including notes, gcs, age,... , and outcome\n",
    "head_ct_notes = pd.read_csv(\"text_for_NLP_gcs_age.csv\").dropna(subset=['conclusion'])\n",
    "\n",
    "head_ct_notes.head()"
   ]
  },
  {
   "cell_type": "markdown",
   "metadata": {},
   "source": [
    "#### A example of Radiologist CT notes text"
   ]
  },
  {
   "cell_type": "code",
   "execution_count": 23,
   "metadata": {},
   "outputs": [
    {
     "name": "stdout",
     "output_type": "stream",
     "text": [
      "[**2117-2-18**] 11:56 AM\n",
      " CT HEAD W/O CONTRAST                                            Clip # [**Clip Number (Radiology) 4287**]\n",
      " Reason: eval bleed\n",
      " ______________________________________________________________________________\n",
      " [**Hospital 2**] MEDICAL CONDITION:\n",
      "  40 year old woman with hx MVC\n",
      " REASON FOR THIS EXAMINATION:\n",
      "  eval bleed\n",
      " No contraindications for IV contrast\n",
      " ______________________________________________________________________________\n",
      " WET READ: [**Doctor Last Name 787**] [**Doctor First Name 137**] [**2117-2-18**] 1:03 PM\n",
      "  Sub-arachnoid hemorrhage overlying the left frontal and temporal lobes.  Sub-\n",
      "  arachnoid hemorrhage versus contusion in right frontal lobe.  Sub-dural\n",
      "  hematoma over the tentorium cerebelli bilaterally.  Diffuse effacement of the\n",
      "  sulci, suggestive of cerebral edema, although grey-white differentiation is\n",
      "  maintained.  Fracture through the posterior aspect of the sphenoid sinus that\n",
      "  approaches the left cavernous internal carotid canal.  Recommend CTA to assess\n",
      "  for vascular injury.  Possible tiny focus of gas in the right cavernous\n",
      "  carotid canal.  Bilateral fractures of the occiput.  The left occipital\n",
      "  fracture is slightly distracted, involves the foramen magnum, and extends to\n",
      "  the left lambdoid suture. The right occipital fracture extends into the\n",
      "  foramen magnum.\n",
      " ______________________________________________________________________________\n",
      "                                 FINAL REPORT\n",
      " INDICATION:  Motor vehicle collision, evaluate for bleed.\n",
      "\n",
      " TECHNIQUE:  MDCT axial images were obtained through the head without\n",
      " administration of IV contrast.  Multiplanar reformations were performed.\n",
      "\n",
      " COMPARISON:  None.\n",
      "\n",
      " FINDINGS:  Subarachnoid hemorrhage is seen within the left frontal and\n",
      " temporal lobe sulci.  An additional focus of extra-axial blood in the left\n",
      " frontotemporal region could be a subdural hematoma (2:14).  In the right\n",
      " frontal lobe, there is an area of hyperdensity which may represent\n",
      " subarachnoid hemorrhage or a hemorrhagic parenchymal contusion.  Small\n",
      " bilateral subdural hematomas overlie the tentorium cerebelli.  There is\n",
      " diffuse effacement of the sulci consistent with diffuse cerebral edema.\n",
      " [**Doctor Last Name **]-white differentiation is maintained throughout, however.  The visualized\n",
      " portions of the paranasal sinuses and mastoid air cells are well aerated.  A\n",
      " transverse fracture across the posterior aspect of the clivus and sphenoid\n",
      " sinus is in close approximation to the cavernous internal carotid arteries\n",
      " bilaterally. Blood is noted within the sphenoid sinus.  There may be a tiny\n",
      " focus of air within the right cavernous segment of the internal carotid\n",
      " artery.  Bilateral fractures of the occiput are present.  On the left, the\n",
      " occipital fracture extends medially into the foramen magnum and posterior\n",
      " occipital condyle, and laterally to the lambdoid suture.  On the right, the\n",
      " occipital fracture extends medially into the foramen magnum and posterior\n",
      " occipital condyle.\n",
      "\n",
      " IMPRESSION:\n",
      "\n",
      " 1.  Left frontal and temporal lobe subarachnoid hemorrhage with focal area of\n",
      "                                                             (Over)\n",
      "\n",
      " [**2117-2-18**] 11:56 AM\n",
      " CT HEAD W/O CONTRAST                                            Clip # [**Clip Number (Radiology) 4287**]\n",
      " Reason: eval bleed\n",
      " ______________________________________________________________________________\n",
      "                                 FINAL REPORT\n",
      " (Cont)\n",
      " extra-axial blood in the left frontotemporal region that could be a subdural\n",
      " hematoma.\n",
      "\n",
      " 2.  Left frontal lobe hemorrhagic contusion versus subarachnoid hemorrhage.\n",
      "\n",
      " 3.  Subdural hematoma overlying the tentorium cerebelli bilaterally.\n",
      "\n",
      " 4.  Diffuse effacement of sulci consistent with cerebral edema.  [**Doctor Last Name **]-white\n",
      " differentiation is maintained, however.\n",
      "\n",
      " 5.  Fracture of the posterior clivus and sphenoid sinus which is in close\n",
      " approximation to the cavernous segments of the internal carotid arteries\n",
      " bilaterally.  Recommend evaluation with CTA to rule out arterial injury.\n",
      "\n",
      " 6.  Bilateral fractures of the occiput.\n",
      "\n",
      " These findings were discussed with Dr. [**First Name4 (NamePattern1) **] [**Last Name (NamePattern1) **] at 1:00 p.m. in person on\n",
      " the day of the study.\n",
      "\n",
      "\n"
     ]
    }
   ],
   "source": [
    "print(head_ct_notes.iloc[3].text)"
   ]
  },
  {
   "cell_type": "code",
   "execution_count": 24,
   "metadata": {},
   "outputs": [
    {
     "name": "stdout",
     "output_type": "stream",
     "text": [
      "shape of notes DF is: (489094, 11) unique admssions:  2224\n"
     ]
    }
   ],
   "source": [
    "print(\"shape of notes DF is:\", head_ct_notes.shape, \"unique admssions: \", head_ct_notes.hadm_id.nunique())"
   ]
  },
  {
   "cell_type": "code",
   "execution_count": 25,
   "metadata": {},
   "outputs": [],
   "source": [
    "# select the first HEAD CT notes for data cleaning\n",
    "withidx= head_ct_notes.groupby(['hadm_id']).agg({'charttime':min})\n",
    "withidx.reset_index(inplace = True)\n",
    "idx = pd.MultiIndex.from_frame(withidx)\n",
    "\n",
    "gb = head_ct_notes.groupby(['hadm_id', 'charttime']).agg({'age':'first', 'gcs':'first',\n",
    "                                                         'conclusion':'first', 'hospital_expire_flag':'first'})\n",
    "\n",
    "#clean up notes section\n",
    "df_notes = preprocess_text(gb.loc[idx])\n",
    "\n",
    "np.random.seed(7)\n",
    "msk = np.random.rand(len(df_notes)) < 0.8\n",
    "(X_train, y_train), (X_test, y_test) = \\\n",
    "(df_notes[['gcs','age','conclusion']][msk], df_notes['hospital_expire_flag'][msk]), \\\n",
    "(df_notes[['gcs','age','conclusion']][~msk], df_notes['hospital_expire_flag'][~msk])\n"
   ]
  },
  {
   "cell_type": "code",
   "execution_count": 26,
   "metadata": {},
   "outputs": [],
   "source": [
    "# corpus specific stop words\n",
    "# may be optimized further later\n",
    "my_stop_words = [\"CT\", \"HEAD\", \"year\", \"old\", \"CONTRAST\", \"Number\", \"Radiology\",\n",
    "                  \"Number\", \"Clip\", \"FINAL\",\"REPORT\", \"Admitting\",\"Diagnosis\", \"Hospital\",\"MEDICAL\",\n",
    "                 \"MEDICAL\",\"CONDITION\", \"EXAMINATION\", \"Last\",\"Name\", \"Doctor\", \"FINDING\", \"FINDINGS\",\n",
    "                  \"Reason\", \"please\", \"INDICATION\",\"___\"]\n",
    "\n",
    "my_stop_words = [x.lower() for x in my_stop_words]"
   ]
  },
  {
   "cell_type": "code",
   "execution_count": 27,
   "metadata": {},
   "outputs": [
    {
     "name": "stderr",
     "output_type": "stream",
     "text": [
      "C:\\Data\\Anaconda3\\envs\\Python3ML\\lib\\site-packages\\sklearn\\feature_extraction\\text.py:484: UserWarning: The parameter 'token_pattern' will not be used since 'tokenizer' is not None'\n",
      "  warnings.warn(\"The parameter 'token_pattern' will not be used\"\n"
     ]
    }
   ],
   "source": [
    "# fit our vectorizer.\n",
    "from sklearn.feature_extraction.text import CountVectorizer\n",
    "vect = CountVectorizer(max_features = 3000,\n",
    "                       tokenizer = tokenizer_better,\n",
    "                       stop_words = my_stop_words)\n",
    "# this could take a while\n",
    "vect.fit(X_train['conclusion'].values)\n",
    "\n",
    "X_train_0 = vect.transform(X_train['conclusion'].values)\n",
    "X_test_0 = vect.transform(X_test['conclusion'].values)\n"
   ]
  },
  {
   "cell_type": "code",
   "execution_count": 28,
   "metadata": {},
   "outputs": [
    {
     "name": "stderr",
     "output_type": "stream",
     "text": [
      "C:\\Data\\Anaconda3\\envs\\Python3ML\\lib\\site-packages\\ipykernel_launcher.py:5: FutureWarning: Support for multi-dimensional indexing (e.g. `obj[:, None]`) is deprecated and will be removed in a future version.  Convert to a numpy array before indexing instead.\n",
      "  \"\"\"\n",
      "C:\\Data\\Anaconda3\\envs\\Python3ML\\lib\\site-packages\\ipykernel_launcher.py:6: FutureWarning: Support for multi-dimensional indexing (e.g. `obj[:, None]`) is deprecated and will be removed in a future version.  Convert to a numpy array before indexing instead.\n",
      "  \n"
     ]
    }
   ],
   "source": [
    "# add age to sparse matrix for Logistic regression\n",
    "import scipy\n",
    "from scipy.sparse import coo_matrix, hstack\n",
    "\n",
    "X_train_1 = scipy.sparse.hstack((X_train_0,coo_matrix(X_train['age'][:,None]))).A\n",
    "X_test_1 = scipy.sparse.hstack((X_test_0,coo_matrix(X_test['age'][:,None]))).A\n",
    "\n",
    "X_train_2 = scipy.sparse.hstack((X_train_0,coo_matrix(X_train[['gcs','age']]))).A\n",
    "X_test_2 = scipy.sparse.hstack((X_test_0,coo_matrix(X_test[['gcs','age']]))).A"
   ]
  },
  {
   "cell_type": "markdown",
   "metadata": {},
   "source": [
    "## Logistic Regression Grid Search"
   ]
  },
  {
   "cell_type": "code",
   "execution_count": 29,
   "metadata": {},
   "outputs": [
    {
     "name": "stderr",
     "output_type": "stream",
     "text": [
      "[Parallel(n_jobs=-1)]: Using backend LokyBackend with 16 concurrent workers.\n"
     ]
    },
    {
     "name": "stdout",
     "output_type": "stream",
     "text": [
      "Fitting 3 folds for each of 480 candidates, totalling 1440 fits\n"
     ]
    },
    {
     "name": "stderr",
     "output_type": "stream",
     "text": [
      "[Parallel(n_jobs=-1)]: Done  18 tasks      | elapsed:    1.8s\n",
      "[Parallel(n_jobs=-1)]: Done 330 tasks      | elapsed:    5.0s\n",
      "[Parallel(n_jobs=-1)]: Done 822 tasks      | elapsed:   14.9s\n",
      "[Parallel(n_jobs=-1)]: Done 1325 tasks      | elapsed:   25.8s\n",
      "[Parallel(n_jobs=-1)]: Done 1409 out of 1440 | elapsed:   27.7s remaining:    0.5s\n",
      "[Parallel(n_jobs=-1)]: Done 1440 out of 1440 | elapsed:   31.2s finished\n",
      "C:\\Data\\Anaconda3\\envs\\Python3ML\\lib\\site-packages\\sklearn\\linear_model\\_sag.py:330: ConvergenceWarning: The max_iter was reached which means the coef_ did not converge\n",
      "  \"the coef_ did not converge\", ConvergenceWarning)\n"
     ]
    }
   ],
   "source": [
    "from sklearn.model_selection import GridSearchCV\n",
    "from sklearn.linear_model import LogisticRegression\n",
    "\n",
    "param_grid = [    \n",
    "    {'penalty' : ['l1', 'l2',  'none'],\n",
    "    'C' : np.logspace(-2, 4, 10),\n",
    "    'solver' : ['lbfgs','newton-cg','liblinear','sag'],\n",
    "    'max_iter' : [100, 1000,2500, 5000]\n",
    "    }\n",
    "]\n",
    "\n",
    "logModel = LogisticRegression()\n",
    "clf = GridSearchCV(logModel, param_grid = param_grid, cv = 3, verbose=True, n_jobs=-1)\n",
    "best_clf = clf.fit(X_train_0,y_train)\n"
   ]
  },
  {
   "cell_type": "code",
   "execution_count": 30,
   "metadata": {},
   "outputs": [
    {
     "data": {
      "text/plain": [
       "LogisticRegression(C=0.046415888336127774, max_iter=2500, solver='sag')"
      ]
     },
     "execution_count": 30,
     "metadata": {},
     "output_type": "execute_result"
    }
   ],
   "source": [
    "best_clf.best_estimator_\n"
   ]
  },
  {
   "cell_type": "code",
   "execution_count": 31,
   "metadata": {},
   "outputs": [
    {
     "data": {
      "text/plain": [
       "(1780, 3002)"
      ]
     },
     "execution_count": 31,
     "metadata": {},
     "output_type": "execute_result"
    }
   ],
   "source": [
    "X_train_2.shape"
   ]
  },
  {
   "cell_type": "markdown",
   "metadata": {},
   "source": [
    "## logistic regression and ROC plot"
   ]
  },
  {
   "cell_type": "code",
   "execution_count": 32,
   "metadata": {
    "scrolled": true
   },
   "outputs": [
    {
     "name": "stderr",
     "output_type": "stream",
     "text": [
      "C:\\Data\\Anaconda3\\envs\\Python3ML\\lib\\site-packages\\sklearn\\linear_model\\_sag.py:330: ConvergenceWarning: The max_iter was reached which means the coef_ did not converge\n",
      "  \"the coef_ did not converge\", ConvergenceWarning)\n"
     ]
    },
    {
     "data": {
      "text/plain": [
       "LogisticRegression(C=0.046415888336127774, max_iter=2500, random_state=42,\n",
       "                   solver='sag')"
      ]
     },
     "execution_count": 32,
     "metadata": {},
     "output_type": "execute_result"
    }
   ],
   "source": [
    "# logistic regression\n",
    "from sklearn.linear_model import LogisticRegression\n",
    "## clf_0=LogisticRegression(C = global_c, penalty = 'l2', random_state = 42)\n",
    "clf_0 = LogisticRegression(C=best_clf.best_estimator_.C, class_weight=None, dual=False,\n",
    "                   fit_intercept=True, intercept_scaling=1, l1_ratio=None,\n",
    "                   max_iter=best_clf.best_estimator_.max_iter, multi_class='auto', n_jobs=None, penalty='l2',\n",
    "                   random_state=42, solver=best_clf.best_estimator_.solver, tol=best_clf.best_estimator_.tol, \n",
    "                           verbose=0,\n",
    "                   warm_start=False)\n",
    "clf_1 = LogisticRegression(C=best_clf.best_estimator_.C, class_weight=None, dual=False,\n",
    "                   fit_intercept=True, intercept_scaling=1, l1_ratio=None,\n",
    "                   max_iter=best_clf.best_estimator_.max_iter, multi_class='auto', n_jobs=None, penalty='l2',\n",
    "                   random_state=42, solver=best_clf.best_estimator_.solver, tol=best_clf.best_estimator_.tol, \n",
    "                           verbose=0,\n",
    "                   warm_start=False)\n",
    "clf_2 = LogisticRegression(C=best_clf.best_estimator_.C, class_weight=None, dual=False,\n",
    "                   fit_intercept=True, intercept_scaling=1, l1_ratio=None,\n",
    "                   max_iter=best_clf.best_estimator_.max_iter, multi_class='auto', n_jobs=None, penalty='l2',\n",
    "                   random_state=42, solver=best_clf.best_estimator_.solver, tol=best_clf.best_estimator_.tol, \n",
    "                           verbose=0,\n",
    "                   warm_start=False)\n",
    "\n",
    "#clf_0 = best_clf.best_estimator_\n",
    "clf_0.fit(X_train_0, y_train)\n",
    "\n",
    "#clf_1 = best_clf.best_estimator_\n",
    "clf_1.fit(X_train_1, y_train)\n",
    "\n",
    "#clf_2 = best_clf.best_estimator_\n",
    "clf_2.fit(X_train_2, y_train)"
   ]
  },
  {
   "cell_type": "code",
   "execution_count": 33,
   "metadata": {},
   "outputs": [
    {
     "data": {
      "image/png": "[encoded data removed]",
      "text/plain": [
       "<Figure size 792x360 with 2 Axes>"
      ]
     },
     "metadata": {
      "needs_background": "light"
     },
     "output_type": "display_data"
    }
   ],
   "source": [
    "# plot ROC curves\n",
    "\n",
    "#fig, (ax1, ax2, ax3) = plt.subplots(1, 3, sharey=True, figsize=(16, 5))\n",
    "fig, (ax1, ax3) = plt.subplots(1, 2, sharey=True, figsize=(11, 5))\n",
    "\n",
    "fig.suptitle('Receiver Operating Characteristic', fontsize = 20, y=1.1)\n",
    "\n",
    "train_draw_ROC(clf_0, X_train_0, X_test_0, y_train, y_test, ax1, \"Notes only\" )\n",
    "#train_draw_ROC(clf_1, X_train_1, X_test_1, y_train, y_test, ax2, \"Notes, Age\" )\n",
    "train_draw_ROC(clf_2, X_train_2, X_test_2, y_train, y_test, ax3, \"Notes, GCS, Age\" )\n",
    "\n",
    "plt.show()"
   ]
  },
  {
   "cell_type": "code",
   "execution_count": 34,
   "metadata": {},
   "outputs": [
    {
     "name": "stdout",
     "output_type": "stream",
     "text": [
      "Test Accuracy:  89.19%\n",
      "\n",
      "              precision    recall  f1-score   support\n",
      "\n",
      "           0       0.91      0.98      0.94       393\n",
      "           1       0.58      0.22      0.31        51\n",
      "\n",
      "    accuracy                           0.89       444\n",
      "   macro avg       0.74      0.60      0.63       444\n",
      "weighted avg       0.87      0.89      0.87       444\n",
      "\n"
     ]
    }
   ],
   "source": [
    "from sklearn.metrics import classification_report\n",
    "from sklearn.metrics import accuracy_score, confusion_matrix\n",
    "\n",
    "predicted_svm = clf_0.predict(X_test_0)\n",
    "print('Test Accuracy: ', \"{:.2%}\".format(accuracy_score(predicted_svm, y_test)))\n",
    "print(\"\")\n",
    "print(classification_report(y_test, predicted_svm))"
   ]
  },
  {
   "cell_type": "code",
   "execution_count": null,
   "metadata": {},
   "outputs": [],
   "source": []
  }
 ],
 "metadata": {
  "kernelspec": {
   "display_name": "Python 3",
   "language": "python",
   "name": "python3"
  },
  "language_info": {
   "codemirror_mode": {
    "name": "ipython",
    "version": 3
   },
   "file_extension": ".py",
   "mimetype": "text/x-python",
   "name": "python",
   "nbconvert_exporter": "python",
   "pygments_lexer": "ipython3",
   "version": "3.6.12"
  }
 },
 "nbformat": 4,
 "nbformat_minor": 4
}
